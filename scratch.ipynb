{
 "cells": [
  {
   "cell_type": "code",
   "execution_count": 1,
   "metadata": {},
   "outputs": [
    {
     "name": "stdout",
     "output_type": "stream",
     "text": [
      "['Grade 12-Private_1 STEM ', 'Grade 12-Public_1 TVL-ICT 1', 'Grade 12-Private_1 STEM']\n",
      "Empty DataFrame\n",
      "Columns: [11222, Incoming Grade 12 with  Private with QVR or ESC, Grade 12, STEM (Science, Technology, Engineering and Mathematics), School Year 2022 - 2023, July 28, 2022, 402168150092, Batitis, Diann Fay, Mallorca, 2022-07-20, Filipino, Others, Bacoor, Cavite., 046-438-1760, 9062602584, Female, batitis.diann072005@gmail.com, Blk 1 Lot 31, Anabu 1-A, Cavite, Imus, Unida Christian Colleges, Unnamed: 20, Anabu 1-F, Imus, Cavite, Philippines., Unnamed: 22, Grade 12.1, FREE (From Private School with ESC/Voucher), Unnamed: 25, Minimum to 14,999, Unnamed: 27, Asa Angelou Mikaela Mallorca, Solo Parent (Mother), Unnamed: 30, Unnamed: 31, Birth Certificate]\n",
      "Index: []\n",
      "\n",
      "[0 rows x 33 columns]\n",
      "Empty DataFrame\n",
      "Columns: [11221, Incoming Grade 12 from Public, Grade 12, TVL-ICT 1 (Animation & Programming (.Net Technology), School Year 2022 - 2023, July 28, 2022, 107989090067, Gutierrez, Edmon, Felongco, 2002-11-24, Filipino, Roman Catholic, Camarines Norte, 9475439477, 9475439477.1, Male, edmonedmon1224@gmail.com, Carnation , Carsadang bago 2, Imus , Camarines Norte, Unida Christian School, Unnamed: 20, Unida st. Anabu 1-F Imus Cavite, Unnamed: 22, Grade 12.1, FREE (From Public School), House Wife, 15, 000 - 29, 999, Unnamed: 27, Felongco  Marilou  Indico, Parents living together, Unnamed: 30, Unnamed: 31, FREE (From Public School).1]\n",
      "Index: []\n",
      "\n",
      "[0 rows x 33 columns]\n",
      "Empty DataFrame\n",
      "Columns: [11222, Incoming Grade 12 with  Private with QVR or ESC, Grade 12, STEM (Science, Technology, Engineering and Mathematics), School Year 2022 - 2023, July 28, 2022, 402168150092, Batitis, Diann Fay, Mallorca, 2022-07-20, Filipino, Others, Bacoor, Cavite., 046-438-1760, 9062602584, Female, batitis.diann072005@gmail.com, Blk 1 Lot 31, Anabu 1-A, Cavite, Imus, Unida Christian Colleges, Unnamed: 20, Anabu 1-F, Imus, Cavite, Philippines., Unnamed: 22, Grade 12.1, FREE (From Private School with ESC/Voucher), Unnamed: 25, Minimum to 14,999, Unnamed: 27, Asa Angelou Mikaela Mallorca, Solo Parent (Mother), Unnamed: 30, Unnamed: 31, Birth Certificate]\n",
      "Index: []\n",
      "\n",
      "[0 rows x 33 columns]\n"
     ]
    }
   ],
   "source": [
    "import pandas as pd\n",
    "from openpyxl import load_workbook\n",
    "\n",
    "workbook = load_workbook(filename=\"enrolled_student.xlsx\")\n",
    "lst = workbook.sheetnames\n",
    "print(lst)\n",
    "values = {}\n",
    "#df = pd.DataFrame(lst)\n",
    "for sheet_name in lst:\n",
    "    data_frame_excel = pd.read_excel(\"enrolled_student.xlsx\", sheet_name=sheet_name)\n",
    "    "
   ]
  },
  {
   "cell_type": "code",
   "execution_count": null,
   "metadata": {},
   "outputs": [],
   "source": []
  }
 ],
 "metadata": {
  "kernelspec": {
   "display_name": "Python 3.10.5 64-bit",
   "language": "python",
   "name": "python3"
  },
  "language_info": {
   "codemirror_mode": {
    "name": "ipython",
    "version": 3
   },
   "file_extension": ".py",
   "mimetype": "text/x-python",
   "name": "python",
   "nbconvert_exporter": "python",
   "pygments_lexer": "ipython3",
   "version": "3.10.5"
  },
  "orig_nbformat": 4,
  "vscode": {
   "interpreter": {
    "hash": "e7370f93d1d0cde622a1f8e1c04877d8463912d04d973331ad4851f04de6915a"
   }
  }
 },
 "nbformat": 4,
 "nbformat_minor": 2
}
